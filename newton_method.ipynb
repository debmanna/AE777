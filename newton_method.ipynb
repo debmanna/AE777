{
 "cells": [
  {
   "cell_type": "markdown",
   "metadata": {},
   "source": [
    "* Applying __Newton method__ for finding roots of $f(E) = 0$ where $f(E) = E- e\\sin(E)-M$  \n",
    "-- M will be mentioned"
   ]
  },
  {
   "cell_type": "code",
   "execution_count": 59,
   "metadata": {},
   "outputs": [],
   "source": [
    "# imported MATH module Required for the calculation to work\n",
    "import math as ma"
   ]
  },
  {
   "cell_type": "code",
   "execution_count": 60,
   "metadata": {},
   "outputs": [],
   "source": [
    "# Kepler's Equation (Elliptic Orbit)\n",
    "f1 = lambda E, e, M: E - e * ma.sin(E) - M\n",
    "\n",
    "f = f1"
   ]
  },
  {
   "cell_type": "code",
   "execution_count": 61,
   "metadata": {},
   "outputs": [],
   "source": [
    "# \\mew_earth = G* Mass_earth \n",
    "mew_earth = 398600.4 # in km^3 s^-2\n",
    "\n",
    "# semi major axis\n",
    "a = 10000 # in km\n",
    "\n",
    "# mean motion\n",
    "n = ma.sqrt(mew_earth/a**3) # rad/s"
   ]
  },
  {
   "cell_type": "code",
   "execution_count": 62,
   "metadata": {},
   "outputs": [
    {
     "data": {
      "text/plain": [
       "0.0006313480814891259"
      ]
     },
     "execution_count": 62,
     "metadata": {},
     "output_type": "execute_result"
    }
   ],
   "source": [
    "n"
   ]
  },
  {
   "cell_type": "code",
   "execution_count": 66,
   "metadata": {},
   "outputs": [
    {
     "name": "stdout",
     "output_type": "stream",
     "text": [
      "Iterations 0 :::: f( 0.5682132733402133 )= -0.1076253882517546 ::: -0.0011353539901849997\n",
      "Iterations 1 :::: f( 0.697659824070686 )= 0.0009613388122000632 ::: 0.1294465507304727\n",
      "Iterations 2 ::: f( 0.696524470080501 )= 8.277316776439392e-08 ::: -0.0011353539901849997\n",
      "Answer\n",
      " E (in radian) =  0.696524470080501 \n",
      " E (in degrees) =  39.90791246319889\n"
     ]
    }
   ],
   "source": [
    "# Time of Periapse\n",
    "t0 = 0 # in sec\n",
    "\n",
    "# Time at which you want to know the Eccentric Anomaly,E(t)\n",
    "t = 15*60 # in sec\n",
    "\n",
    "# Mean Anomaly\n",
    "M = n*(t-t0) #in rad\n",
    "\n",
    "# Orbital eccentricity\n",
    "e = 0.2\n",
    "\n",
    "#start with guess !! NOTE E is in RADIAN NOT DEGREES !! \n",
    "E_guess = M\n",
    "\n",
    "#set a tolerance level that you want\n",
    "tolerance = 10**-6\n",
    "\n",
    "#count variable\n",
    "itr = 0\n",
    "\n",
    "while abs(f(E_guess, e, M)) > tolerance:\n",
    "    print(\"Iterations\",itr,\"::::\",\n",
    "          \"f(\",E_guess,\")=\",f(E_guess, e, M),\":::\",delta_E)\n",
    "    delta_E = (-E_guess+e*ma.sin(E_guess)+M)/(1-e*ma.cos(E_guess))\n",
    "    E_guess = E_guess + delta_E\n",
    "    \n",
    "    itr = itr + 1\n",
    "    \n",
    "print(\"Iterations\",itr,\":::\",\n",
    "          \"f(\",E_guess,\")=\",f(E_guess, e, M),\":::\",delta_E)\n",
    "\n",
    "print(\"Answer\\n E (in radian) = \",E_guess, \"\\n E (in degrees) = \", ma.degrees(E_guess))"
   ]
  },
  {
   "cell_type": "code",
   "execution_count": 70,
   "metadata": {},
   "outputs": [
    {
     "data": {
      "text/plain": [
       "19.953956231599445"
      ]
     },
     "execution_count": 70,
     "metadata": {},
     "output_type": "execute_result"
    }
   ],
   "source": [
    "ma.degrees(E_guess)/2"
   ]
  },
  {
   "cell_type": "code",
   "execution_count": 64,
   "metadata": {},
   "outputs": [
    {
     "data": {
      "text/plain": [
       "0.7853981633974483"
      ]
     },
     "execution_count": 64,
     "metadata": {},
     "output_type": "execute_result"
    }
   ],
   "source": [
    "ma.atan(1)"
   ]
  },
  {
   "cell_type": "code",
   "execution_count": 65,
   "metadata": {},
   "outputs": [
    {
     "data": {
      "text/plain": [
       "25356.130503152664"
      ]
     },
     "execution_count": 65,
     "metadata": {},
     "output_type": "execute_result"
    }
   ],
   "source": [
    "398600.4/(3986.004/50 - 64)"
   ]
  },
  {
   "cell_type": "code",
   "execution_count": null,
   "metadata": {},
   "outputs": [],
   "source": []
  }
 ],
 "metadata": {
  "kernelspec": {
   "display_name": "Python 3.10.8 64-bit (microsoft store)",
   "language": "python",
   "name": "python3"
  },
  "language_info": {
   "codemirror_mode": {
    "name": "ipython",
    "version": 3
   },
   "file_extension": ".py",
   "mimetype": "text/x-python",
   "name": "python",
   "nbconvert_exporter": "python",
   "pygments_lexer": "ipython3",
   "version": "3.10.8"
  },
  "orig_nbformat": 4,
  "vscode": {
   "interpreter": {
    "hash": "486e0d5a79acdbfffd563ee7a67a93a5017bd2a4f66495483a69f0245c8a4a6c"
   }
  }
 },
 "nbformat": 4,
 "nbformat_minor": 2
}
